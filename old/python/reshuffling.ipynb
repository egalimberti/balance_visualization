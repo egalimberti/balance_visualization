{
 "cells": [
  {
   "cell_type": "code",
   "execution_count": 19,
   "metadata": {},
   "outputs": [],
   "source": [
    "# edges and signs\n",
    "edges = []\n",
    "signs = []\n",
    "\n",
    "original_dataset = open('../data/congress/congress.txt', 'r')\n",
    "for line in original_dataset:\n",
    "    split_line = line.split(',')\n",
    "    \n",
    "    edge = ','.join(split_line[:2])\n",
    "    sign = split_line[-1].replace('\\n', '')\n",
    "    \n",
    "    edges.append(edge)\n",
    "    signs.append(sign)"
   ]
  },
  {
   "cell_type": "code",
   "execution_count": 20,
   "metadata": {},
   "outputs": [],
   "source": [
    "import random\n",
    "\n",
    "reshuffled_dataset = open('../data/congress/congress_reshuffled_19.txt', 'w')\n",
    "for edge in edges:\n",
    "    line = edge + ',' + signs.pop(random.randrange(len(signs))) + '\\n'\n",
    "    reshuffled_dataset.write(line)\n",
    "    \n",
    "reshuffled_dataset.close()"
   ]
  },
  {
   "cell_type": "code",
   "execution_count": null,
   "metadata": {},
   "outputs": [],
   "source": []
  }
 ],
 "metadata": {
  "kernelspec": {
   "display_name": "Python 3",
   "language": "python",
   "name": "python3"
  },
  "language_info": {
   "codemirror_mode": {
    "name": "ipython",
    "version": 3
   },
   "file_extension": ".py",
   "mimetype": "text/x-python",
   "name": "python",
   "nbconvert_exporter": "python",
   "pygments_lexer": "ipython3",
   "version": "3.7.2"
  }
 },
 "nbformat": 4,
 "nbformat_minor": 2
}
